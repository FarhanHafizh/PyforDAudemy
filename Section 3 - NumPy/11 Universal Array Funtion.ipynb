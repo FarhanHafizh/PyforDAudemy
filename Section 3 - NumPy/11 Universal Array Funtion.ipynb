{
 "cells": [
  {
   "cell_type": "code",
   "execution_count": 1,
   "id": "2d43affb",
   "metadata": {},
   "outputs": [],
   "source": [
    "import numpy as np"
   ]
  },
  {
   "cell_type": "code",
   "execution_count": 2,
   "id": "89584e0f",
   "metadata": {},
   "outputs": [
    {
     "data": {
      "text/plain": [
       "array([ 0,  1,  2,  3,  4,  5,  6,  7,  8,  9, 10])"
      ]
     },
     "execution_count": 2,
     "metadata": {},
     "output_type": "execute_result"
    }
   ],
   "source": [
    "arr = np.array(np.arange(0,11))\n",
    "arr"
   ]
  },
  {
   "cell_type": "code",
   "execution_count": 3,
   "id": "b4748bb7",
   "metadata": {},
   "outputs": [
    {
     "data": {
      "text/plain": [
       "array([ 0,  1,  2,  3,  4,  5,  6,  7,  8,  9, 10])"
      ]
     },
     "execution_count": 3,
     "metadata": {},
     "output_type": "execute_result"
    }
   ],
   "source": [
    "np.arange(0,11) # sama aja, np.arange artinya memang array range ..."
   ]
  },
  {
   "cell_type": "markdown",
   "id": "c9f0639a",
   "metadata": {},
   "source": [
    "Universal functions are basic function that we can apply to every value in array"
   ]
  },
  {
   "cell_type": "code",
   "execution_count": 5,
   "id": "58360c69",
   "metadata": {},
   "outputs": [
    {
     "data": {
      "text/plain": [
       "array([0.        , 1.        , 1.41421356, 1.73205081, 2.        ,\n",
       "       2.23606798, 2.44948974, 2.64575131, 2.82842712, 3.        ,\n",
       "       3.16227766])"
      ]
     },
     "execution_count": 5,
     "metadata": {},
     "output_type": "execute_result"
    }
   ],
   "source": [
    "np.sqrt(arr)"
   ]
  },
  {
   "cell_type": "code",
   "execution_count": 6,
   "id": "3ad3913e",
   "metadata": {},
   "outputs": [
    {
     "data": {
      "text/plain": [
       "array([1.00000000e+00, 2.71828183e+00, 7.38905610e+00, 2.00855369e+01,\n",
       "       5.45981500e+01, 1.48413159e+02, 4.03428793e+02, 1.09663316e+03,\n",
       "       2.98095799e+03, 8.10308393e+03, 2.20264658e+04])"
      ]
     },
     "execution_count": 6,
     "metadata": {},
     "output_type": "execute_result"
    }
   ],
   "source": [
    "np.exp(arr) # exponential, e^..."
   ]
  },
  {
   "cell_type": "markdown",
   "id": "140e2075",
   "metadata": {},
   "source": [
    "calling random"
   ]
  },
  {
   "cell_type": "code",
   "execution_count": 7,
   "id": "ccbf1eb5",
   "metadata": {},
   "outputs": [
    {
     "data": {
      "text/plain": [
       "array([ 0.43224228,  0.11242997,  1.67243644,  0.17624294,  1.17037028,\n",
       "        0.69791161,  0.65841225, -1.1280944 , -1.52442763,  0.80632127])"
      ]
     },
     "execution_count": 7,
     "metadata": {},
     "output_type": "execute_result"
    }
   ],
   "source": [
    "A = np.random.randn(10) #random normal distributuon\n",
    "A"
   ]
  },
  {
   "cell_type": "code",
   "execution_count": 9,
   "id": "b42fdaae",
   "metadata": {},
   "outputs": [
    {
     "data": {
      "text/plain": [
       "array([9, 9, 0, 1, 3, 7, 3, 1, 2, 4])"
      ]
     },
     "execution_count": 9,
     "metadata": {},
     "output_type": "execute_result"
    }
   ],
   "source": [
    "B = np.random.randint(0,10,10) # (low, high, size)\n",
    "B"
   ]
  },
  {
   "cell_type": "markdown",
   "id": "66cf74e3",
   "metadata": {},
   "source": [
    "### Binary Functions\n",
    "\n",
    "Functions that use 2 arrays"
   ]
  },
  {
   "cell_type": "code",
   "execution_count": 10,
   "id": "c4b010f3",
   "metadata": {},
   "outputs": [
    {
     "data": {
      "text/plain": [
       "array([ 9.43224228,  9.11242997,  1.67243644,  1.17624294,  4.17037028,\n",
       "        7.69791161,  3.65841225, -0.1280944 ,  0.47557237,  4.80632127])"
      ]
     },
     "execution_count": 10,
     "metadata": {},
     "output_type": "execute_result"
    }
   ],
   "source": [
    "np.add(A,B)"
   ]
  },
  {
   "cell_type": "code",
   "execution_count": 11,
   "id": "d54c36c9",
   "metadata": {},
   "outputs": [
    {
     "data": {
      "text/plain": [
       "array([30, 28, 23,  8, 41, 24,  0,  8, 46, 26, 44,  1, 30, 49, 30, 15,  4,\n",
       "        3, 37, 24])"
      ]
     },
     "execution_count": 11,
     "metadata": {},
     "output_type": "execute_result"
    }
   ],
   "source": [
    "C = np.random.randint(0,50,20)\n",
    "C"
   ]
  },
  {
   "cell_type": "code",
   "execution_count": 15,
   "id": "ad151980",
   "metadata": {},
   "outputs": [
    {
     "data": {
      "text/plain": [
       "array([9.        , 9.        , 1.67243644, 1.        , 3.        ,\n",
       "       7.        , 3.        , 1.        , 2.        , 4.        ])"
      ]
     },
     "execution_count": 15,
     "metadata": {},
     "output_type": "execute_result"
    }
   ],
   "source": [
    "np.maximum(A,B)"
   ]
  },
  {
   "cell_type": "code",
   "execution_count": 18,
   "id": "831d9eb8",
   "metadata": {},
   "outputs": [
    {
     "data": {
      "text/plain": [
       "array([ 0.29332381, -0.34449152, -1.17715644, -0.14773205, -0.03240404,\n",
       "       -1.38788314, -0.95426306, -0.34458522, -0.74410277,  1.21994118,\n",
       "        0.68794482,  0.52788365,  0.56158171, -1.10354714, -0.54619751,\n",
       "        0.79000768,  0.99517991, -0.07085467,  0.05563817,  0.39884474])"
      ]
     },
     "execution_count": 18,
     "metadata": {},
     "output_type": "execute_result"
    }
   ],
   "source": [
    "D = np.random.randn(20)\n",
    "D"
   ]
  },
  {
   "cell_type": "code",
   "execution_count": 19,
   "id": "355c5742",
   "metadata": {},
   "outputs": [
    {
     "data": {
      "text/plain": [
       "array([30., 28., 23.,  8., 41., 24.,  0.,  8., 46., 26., 44.,  1., 30.,\n",
       "       49., 30., 15.,  4.,  3., 37., 24.])"
      ]
     },
     "execution_count": 19,
     "metadata": {},
     "output_type": "execute_result"
    }
   ],
   "source": [
    "np.maximum(C,D) # membandingkan maximum values elemen 2 array dengan dimensi yang sama"
   ]
  },
  {
   "cell_type": "code",
   "execution_count": 20,
   "id": "3671efc7",
   "metadata": {},
   "outputs": [
    {
     "data": {
      "text/plain": [
       "1.2199411844037191"
      ]
     },
     "execution_count": 20,
     "metadata": {},
     "output_type": "execute_result"
    }
   ],
   "source": [
    "np.max(D)"
   ]
  },
  {
   "cell_type": "code",
   "execution_count": 21,
   "id": "2f1a9bce",
   "metadata": {},
   "outputs": [
    {
     "data": {
      "text/plain": [
       "0"
      ]
     },
     "execution_count": 21,
     "metadata": {},
     "output_type": "execute_result"
    }
   ],
   "source": [
    "np.min(C)"
   ]
  },
  {
   "cell_type": "code",
   "execution_count": 22,
   "id": "7f2f3049",
   "metadata": {},
   "outputs": [
    {
     "data": {
      "text/plain": [
       "array([18, 20, 20, 21, 27, 15, 24, 23, 26, 24, 18, 26, 16, 14, 23, 18, 14,\n",
       "       11, 16, 13])"
      ]
     },
     "execution_count": 22,
     "metadata": {},
     "output_type": "execute_result"
    }
   ],
   "source": [
    "E = np.random.randint(10,30,20)\n",
    "E"
   ]
  },
  {
   "cell_type": "code",
   "execution_count": 27,
   "id": "70c7e3af",
   "metadata": {},
   "outputs": [
    {
     "ename": "UFuncTypeError",
     "evalue": "Cannot cast ufunc 'maximum' output from dtype('float64') to dtype('int32') with casting rule 'same_kind'",
     "output_type": "error",
     "traceback": [
      "\u001b[1;31m---------------------------------------------------------------------------\u001b[0m",
      "\u001b[1;31mUFuncTypeError\u001b[0m                            Traceback (most recent call last)",
      "\u001b[1;32m~\\AppData\\Local\\Temp\\ipykernel_8604\\2807557739.py\u001b[0m in \u001b[0;36m<module>\u001b[1;34m\u001b[0m\n\u001b[1;32m----> 1\u001b[1;33m \u001b[0mnp\u001b[0m\u001b[1;33m.\u001b[0m\u001b[0mmaximum\u001b[0m\u001b[1;33m(\u001b[0m\u001b[0mC\u001b[0m\u001b[1;33m,\u001b[0m\u001b[0mD\u001b[0m\u001b[1;33m,\u001b[0m\u001b[0mE\u001b[0m\u001b[1;33m)\u001b[0m\u001b[1;33m\u001b[0m\u001b[1;33m\u001b[0m\u001b[0m\n\u001b[0m",
      "\u001b[1;31mUFuncTypeError\u001b[0m: Cannot cast ufunc 'maximum' output from dtype('float64') to dtype('int32') with casting rule 'same_kind'"
     ]
    }
   ],
   "source": [
    "np.maximum(C,D,E)"
   ]
  },
  {
   "cell_type": "code",
   "execution_count": 28,
   "id": "aaca5d42",
   "metadata": {},
   "outputs": [
    {
     "data": {
      "text/plain": [
       "array([22, 20, 26, 13, 13, 11, 19, 11, 24, 25, 28, 25, 15, 17, 16, 26, 25,\n",
       "       28, 25, 16])"
      ]
     },
     "execution_count": 28,
     "metadata": {},
     "output_type": "execute_result"
    }
   ],
   "source": [
    "F = np.random.randint(10,30,20)\n",
    "F"
   ]
  },
  {
   "cell_type": "code",
   "execution_count": 29,
   "id": "1b636d30",
   "metadata": {},
   "outputs": [
    {
     "data": {
      "text/plain": [
       "array([30, 28, 23, 21, 41, 24, 24, 23, 46, 26, 44, 26, 30, 49, 30, 18, 14,\n",
       "       11, 37, 24])"
      ]
     },
     "execution_count": 29,
     "metadata": {},
     "output_type": "execute_result"
    }
   ],
   "source": [
    "np.maximum(C,E,F) # Kalau mau bandingin lebih dari 2 maka dtype harus sama"
   ]
  },
  {
   "cell_type": "code",
   "execution_count": 32,
   "id": "df80531e",
   "metadata": {},
   "outputs": [],
   "source": [
    "web = 'https://numpy.org/doc/stable/reference/ufuncs' # Cek unoversal functions yang lain di web ini"
   ]
  },
  {
   "cell_type": "code",
   "execution_count": 33,
   "id": "fe1714da",
   "metadata": {},
   "outputs": [
    {
     "data": {
      "text/plain": [
       "True"
      ]
     },
     "execution_count": 33,
     "metadata": {},
     "output_type": "execute_result"
    }
   ],
   "source": [
    "import webbrowser\n",
    "webbrowser.open(web)"
   ]
  },
  {
   "cell_type": "code",
   "execution_count": null,
   "id": "dfb76322",
   "metadata": {},
   "outputs": [],
   "source": []
  }
 ],
 "metadata": {
  "kernelspec": {
   "display_name": "Python 3 (ipykernel)",
   "language": "python",
   "name": "python3"
  },
  "language_info": {
   "codemirror_mode": {
    "name": "ipython",
    "version": 3
   },
   "file_extension": ".py",
   "mimetype": "text/x-python",
   "name": "python",
   "nbconvert_exporter": "python",
   "pygments_lexer": "ipython3",
   "version": "3.7.3"
  }
 },
 "nbformat": 4,
 "nbformat_minor": 5
}
