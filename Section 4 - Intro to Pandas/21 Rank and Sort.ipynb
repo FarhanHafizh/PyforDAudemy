{
 "cells": [
  {
   "cell_type": "code",
   "execution_count": 1,
   "id": "267ac09b",
   "metadata": {},
   "outputs": [],
   "source": [
    "import numpy as np\n",
    "import pandas as pd"
   ]
  },
  {
   "cell_type": "code",
   "execution_count": 2,
   "id": "852cfd5f",
   "metadata": {},
   "outputs": [
    {
     "data": {
      "text/plain": [
       "C    0\n",
       "A    1\n",
       "B    2\n",
       "dtype: int64"
      ]
     },
     "execution_count": 2,
     "metadata": {},
     "output_type": "execute_result"
    }
   ],
   "source": [
    "ser1 = pd.Series(range(3),index=['C','A','B'])\n",
    "ser1"
   ]
  },
  {
   "cell_type": "markdown",
   "id": "3e8f8f7a",
   "metadata": {},
   "source": [
    "#### Sort by the index"
   ]
  },
  {
   "cell_type": "code",
   "execution_count": 3,
   "id": "2b1ba89f",
   "metadata": {},
   "outputs": [
    {
     "data": {
      "text/plain": [
       "A    1\n",
       "B    2\n",
       "C    0\n",
       "dtype: int64"
      ]
     },
     "execution_count": 3,
     "metadata": {},
     "output_type": "execute_result"
    }
   ],
   "source": [
    "ser1.sort_index()"
   ]
  },
  {
   "cell_type": "markdown",
   "id": "adb40ff7",
   "metadata": {},
   "source": [
    "#### Sort by the value"
   ]
  },
  {
   "cell_type": "code",
   "execution_count": 5,
   "id": "8c899ab1",
   "metadata": {},
   "outputs": [
    {
     "data": {
      "text/plain": [
       "C    0\n",
       "A    1\n",
       "B    2\n",
       "dtype: int64"
      ]
     },
     "execution_count": 5,
     "metadata": {},
     "output_type": "execute_result"
    }
   ],
   "source": [
    "ser1.sort_values()"
   ]
  },
  {
   "cell_type": "markdown",
   "id": "fb1748c2",
   "metadata": {},
   "source": [
    "#### Ranking"
   ]
  },
  {
   "cell_type": "code",
   "execution_count": 6,
   "id": "e006bfad",
   "metadata": {},
   "outputs": [
    {
     "data": {
      "text/plain": [
       "array([ 0.6130982 , -1.36889678, -0.27228022,  0.14894851,  0.10808558,\n",
       "       -0.77802779,  0.54036945, -0.5958661 , -0.83048403, -0.18941154])"
      ]
     },
     "execution_count": 6,
     "metadata": {},
     "output_type": "execute_result"
    }
   ],
   "source": [
    "np.random.randn(10)"
   ]
  },
  {
   "cell_type": "code",
   "execution_count": 8,
   "id": "d7ee9292",
   "metadata": {},
   "outputs": [
    {
     "data": {
      "text/plain": [
       "0    0.525365\n",
       "1    0.666791\n",
       "2    0.704740\n",
       "3    0.048783\n",
       "4    1.035185\n",
       "5    0.636197\n",
       "6    0.885415\n",
       "7   -0.340909\n",
       "8   -0.148673\n",
       "9   -0.600714\n",
       "dtype: float64"
      ]
     },
     "execution_count": 8,
     "metadata": {},
     "output_type": "execute_result"
    }
   ],
   "source": [
    "ser2 = pd.Series(np.random.randn(10))\n",
    "ser2"
   ]
  },
  {
   "cell_type": "code",
   "execution_count": 9,
   "id": "1404e949",
   "metadata": {},
   "outputs": [
    {
     "data": {
      "text/plain": [
       "0    0.525365\n",
       "1    0.666791\n",
       "2    0.704740\n",
       "3    0.048783\n",
       "4    1.035185\n",
       "5    0.636197\n",
       "6    0.885415\n",
       "7   -0.340909\n",
       "8   -0.148673\n",
       "9   -0.600714\n",
       "dtype: float64"
      ]
     },
     "execution_count": 9,
     "metadata": {},
     "output_type": "execute_result"
    }
   ],
   "source": [
    "ser2.sort_index()"
   ]
  },
  {
   "cell_type": "code",
   "execution_count": 10,
   "id": "283480aa",
   "metadata": {},
   "outputs": [
    {
     "data": {
      "text/plain": [
       "9   -0.600714\n",
       "7   -0.340909\n",
       "8   -0.148673\n",
       "3    0.048783\n",
       "0    0.525365\n",
       "5    0.636197\n",
       "1    0.666791\n",
       "2    0.704740\n",
       "6    0.885415\n",
       "4    1.035185\n",
       "dtype: float64"
      ]
     },
     "execution_count": 10,
     "metadata": {},
     "output_type": "execute_result"
    }
   ],
   "source": [
    "ser2.sort_values()"
   ]
  },
  {
   "cell_type": "code",
   "execution_count": 11,
   "id": "15459ca4",
   "metadata": {},
   "outputs": [
    {
     "data": {
      "text/plain": [
       "0     5.0\n",
       "1     7.0\n",
       "2     8.0\n",
       "3     4.0\n",
       "4    10.0\n",
       "5     6.0\n",
       "6     9.0\n",
       "7     2.0\n",
       "8     3.0\n",
       "9     1.0\n",
       "dtype: float64"
      ]
     },
     "execution_count": 11,
     "metadata": {},
     "output_type": "execute_result"
    }
   ],
   "source": [
    "ser2.rank()"
   ]
  },
  {
   "cell_type": "code",
   "execution_count": 13,
   "id": "4eafc12f",
   "metadata": {},
   "outputs": [
    {
     "data": {
      "text/html": [
       "<div>\n",
       "<style scoped>\n",
       "    .dataframe tbody tr th:only-of-type {\n",
       "        vertical-align: middle;\n",
       "    }\n",
       "\n",
       "    .dataframe tbody tr th {\n",
       "        vertical-align: top;\n",
       "    }\n",
       "\n",
       "    .dataframe thead th {\n",
       "        text-align: right;\n",
       "    }\n",
       "</style>\n",
       "<table border=\"1\" class=\"dataframe\">\n",
       "  <thead>\n",
       "    <tr style=\"text-align: right;\">\n",
       "      <th></th>\n",
       "      <th>Rank</th>\n",
       "      <th>Value</th>\n",
       "    </tr>\n",
       "  </thead>\n",
       "  <tbody>\n",
       "    <tr>\n",
       "      <th>0</th>\n",
       "      <td>5.0</td>\n",
       "      <td>0.525365</td>\n",
       "    </tr>\n",
       "    <tr>\n",
       "      <th>1</th>\n",
       "      <td>7.0</td>\n",
       "      <td>0.666791</td>\n",
       "    </tr>\n",
       "    <tr>\n",
       "      <th>2</th>\n",
       "      <td>8.0</td>\n",
       "      <td>0.704740</td>\n",
       "    </tr>\n",
       "    <tr>\n",
       "      <th>3</th>\n",
       "      <td>4.0</td>\n",
       "      <td>0.048783</td>\n",
       "    </tr>\n",
       "    <tr>\n",
       "      <th>4</th>\n",
       "      <td>10.0</td>\n",
       "      <td>1.035185</td>\n",
       "    </tr>\n",
       "    <tr>\n",
       "      <th>5</th>\n",
       "      <td>6.0</td>\n",
       "      <td>0.636197</td>\n",
       "    </tr>\n",
       "    <tr>\n",
       "      <th>6</th>\n",
       "      <td>9.0</td>\n",
       "      <td>0.885415</td>\n",
       "    </tr>\n",
       "    <tr>\n",
       "      <th>7</th>\n",
       "      <td>2.0</td>\n",
       "      <td>-0.340909</td>\n",
       "    </tr>\n",
       "    <tr>\n",
       "      <th>8</th>\n",
       "      <td>3.0</td>\n",
       "      <td>-0.148673</td>\n",
       "    </tr>\n",
       "    <tr>\n",
       "      <th>9</th>\n",
       "      <td>1.0</td>\n",
       "      <td>-0.600714</td>\n",
       "    </tr>\n",
       "  </tbody>\n",
       "</table>\n",
       "</div>"
      ],
      "text/plain": [
       "   Rank     Value\n",
       "0   5.0  0.525365\n",
       "1   7.0  0.666791\n",
       "2   8.0  0.704740\n",
       "3   4.0  0.048783\n",
       "4  10.0  1.035185\n",
       "5   6.0  0.636197\n",
       "6   9.0  0.885415\n",
       "7   2.0 -0.340909\n",
       "8   3.0 -0.148673\n",
       "9   1.0 -0.600714"
      ]
     },
     "execution_count": 13,
     "metadata": {},
     "output_type": "execute_result"
    }
   ],
   "source": [
    "df1 = pd.DataFrame({'Rank':ser2.rank(),\n",
    "                    'Value':ser2})\n",
    "df1"
   ]
  },
  {
   "cell_type": "code",
   "execution_count": 14,
   "id": "44f69965",
   "metadata": {},
   "outputs": [
    {
     "data": {
      "text/plain": [
       "0   -0.399064\n",
       "1   -1.254561\n",
       "2   -0.955530\n",
       "3   -1.955630\n",
       "4    1.152450\n",
       "5    0.089111\n",
       "6   -0.469006\n",
       "7   -0.132815\n",
       "8    1.447686\n",
       "9   -0.902347\n",
       "dtype: float64"
      ]
     },
     "execution_count": 14,
     "metadata": {},
     "output_type": "execute_result"
    }
   ],
   "source": [
    "ser3 = pd.Series(np.random.randn(10))\n",
    "ser3"
   ]
  },
  {
   "cell_type": "code",
   "execution_count": 15,
   "id": "f7dea4e9",
   "metadata": {},
   "outputs": [
    {
     "data": {
      "text/plain": [
       "0     6.0\n",
       "1     2.0\n",
       "2     3.0\n",
       "3     1.0\n",
       "4     9.0\n",
       "5     8.0\n",
       "6     5.0\n",
       "7     7.0\n",
       "8    10.0\n",
       "9     4.0\n",
       "dtype: float64"
      ]
     },
     "execution_count": 15,
     "metadata": {},
     "output_type": "execute_result"
    }
   ],
   "source": [
    "ser3.rank()"
   ]
  },
  {
   "cell_type": "code",
   "execution_count": 16,
   "id": "33262950",
   "metadata": {},
   "outputs": [
    {
     "data": {
      "text/plain": [
       "3     1.0\n",
       "1     2.0\n",
       "2     3.0\n",
       "9     4.0\n",
       "6     5.0\n",
       "0     6.0\n",
       "7     7.0\n",
       "5     8.0\n",
       "4     9.0\n",
       "8    10.0\n",
       "dtype: float64"
      ]
     },
     "execution_count": 16,
     "metadata": {},
     "output_type": "execute_result"
    }
   ],
   "source": [
    "ser3.sort_values().rank()"
   ]
  },
  {
   "cell_type": "code",
   "execution_count": null,
   "id": "26bca69c",
   "metadata": {},
   "outputs": [],
   "source": []
  }
 ],
 "metadata": {
  "kernelspec": {
   "display_name": "Python 3 (ipykernel)",
   "language": "python",
   "name": "python3"
  },
  "language_info": {
   "codemirror_mode": {
    "name": "ipython",
    "version": 3
   },
   "file_extension": ".py",
   "mimetype": "text/x-python",
   "name": "python",
   "nbconvert_exporter": "python",
   "pygments_lexer": "ipython3",
   "version": "3.7.3"
  }
 },
 "nbformat": 4,
 "nbformat_minor": 5
}
