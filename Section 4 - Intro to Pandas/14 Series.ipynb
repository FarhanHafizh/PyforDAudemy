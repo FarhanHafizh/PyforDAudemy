{
 "cells": [
  {
   "cell_type": "code",
   "execution_count": 1,
   "id": "48103b36",
   "metadata": {},
   "outputs": [],
   "source": [
    "import numpy as np\n",
    "import pandas as pd\n",
    "from pandas import Series, DataFrame"
   ]
  },
  {
   "cell_type": "markdown",
   "id": "823cff72",
   "metadata": {},
   "source": [
    "### A series is like an array in numpy, except it has data labels (so its indexed)"
   ]
  },
  {
   "cell_type": "code",
   "execution_count": 2,
   "id": "00407ed1",
   "metadata": {},
   "outputs": [
    {
     "data": {
      "text/plain": [
       "0    3\n",
       "1    6\n",
       "2    9\n",
       "dtype: int64"
      ]
     },
     "execution_count": 2,
     "metadata": {},
     "output_type": "execute_result"
    }
   ],
   "source": [
    "obj = Series([3,6,9])\n",
    "obj"
   ]
  },
  {
   "cell_type": "code",
   "execution_count": 3,
   "id": "321333fc",
   "metadata": {},
   "outputs": [
    {
     "data": {
      "text/plain": [
       "0    1\n",
       "1    2\n",
       "2    3\n",
       "dtype: int64"
      ]
     },
     "execution_count": 3,
     "metadata": {},
     "output_type": "execute_result"
    }
   ],
   "source": [
    "pd.Series([1,2,3])"
   ]
  },
  {
   "cell_type": "code",
   "execution_count": 5,
   "id": "d057335d",
   "metadata": {},
   "outputs": [
    {
     "data": {
      "text/plain": [
       "array([3, 6, 9], dtype=int64)"
      ]
     },
     "execution_count": 5,
     "metadata": {},
     "output_type": "execute_result"
    }
   ],
   "source": [
    "# if we wanted to see only the value of the series object; it will show us the value in array\n",
    "obj.values"
   ]
  },
  {
   "cell_type": "code",
   "execution_count": 8,
   "id": "2cd3f5bd",
   "metadata": {},
   "outputs": [
    {
     "data": {
      "text/plain": [
       "RangeIndex(start=0, stop=3, step=1)"
      ]
     },
     "execution_count": 8,
     "metadata": {},
     "output_type": "execute_result"
    }
   ],
   "source": [
    "# we can also see the index; it will show us the index values\n",
    "obj.index"
   ]
  },
  {
   "cell_type": "markdown",
   "id": "fcb35403",
   "metadata": {},
   "source": [
    "### Creating a series with an index that we specified"
   ]
  },
  {
   "cell_type": "code",
   "execution_count": 9,
   "id": "e59efa67",
   "metadata": {},
   "outputs": [
    {
     "data": {
      "text/plain": [
       "USSR       8700000\n",
       "Germany    4300000\n",
       "China      3000000\n",
       "Japan      2100000\n",
       "USA         400000\n",
       "dtype: int64"
      ]
     },
     "execution_count": 9,
     "metadata": {},
     "output_type": "execute_result"
    }
   ],
   "source": [
    "ww2_cas = Series([8700000,4300000,3000000,2100000,400000],\n",
    "                index=['USSR','Germany','China','Japan','USA'])\n",
    "ww2_cas\n",
    "# as we can see the index is now a country name, and the values are the number of casualties"
   ]
  },
  {
   "cell_type": "markdown",
   "id": "5b9d90dd",
   "metadata": {},
   "source": [
    "We can use the index values to select the series values"
   ]
  },
  {
   "cell_type": "code",
   "execution_count": 10,
   "id": "96421bbc",
   "metadata": {},
   "outputs": [
    {
     "data": {
      "text/plain": [
       "400000"
      ]
     },
     "execution_count": 10,
     "metadata": {},
     "output_type": "execute_result"
    }
   ],
   "source": [
    "ww2_cas['USA']"
   ]
  },
  {
   "cell_type": "code",
   "execution_count": 11,
   "id": "1304ceaf",
   "metadata": {},
   "outputs": [
    {
     "data": {
      "text/plain": [
       "8700000"
      ]
     },
     "execution_count": 11,
     "metadata": {},
     "output_type": "execute_result"
    }
   ],
   "source": [
    "ww2_cas['USSR']"
   ]
  },
  {
   "cell_type": "markdown",
   "id": "de77f6cd",
   "metadata": {},
   "source": [
    "We can use / checks the series with array operations"
   ]
  },
  {
   "cell_type": "code",
   "execution_count": 12,
   "id": "fb05645a",
   "metadata": {},
   "outputs": [
    {
     "data": {
      "text/plain": [
       "USSR       8700000\n",
       "Germany    4300000\n",
       "dtype: int64"
      ]
     },
     "execution_count": 12,
     "metadata": {},
     "output_type": "execute_result"
    }
   ],
   "source": [
    "# Checking which countries that have casualties greater than 4 millions\n",
    "ww2_cas[ww2_cas > 4000000]"
   ]
  },
  {
   "cell_type": "markdown",
   "id": "f1850ede",
   "metadata": {},
   "source": [
    "We can treat a series as an order dictionary\n",
    "\n",
    "e.g. if we wanted to check an index / a value in a series, we could say :"
   ]
  },
  {
   "cell_type": "code",
   "execution_count": 13,
   "id": "9161ae36",
   "metadata": {},
   "outputs": [
    {
     "data": {
      "text/plain": [
       "True"
      ]
     },
     "execution_count": 13,
     "metadata": {},
     "output_type": "execute_result"
    }
   ],
   "source": [
    "'USSR' in ww2_cas"
   ]
  },
  {
   "cell_type": "code",
   "execution_count": 14,
   "id": "689790c8",
   "metadata": {},
   "outputs": [
    {
     "data": {
      "text/plain": [
       "False"
      ]
     },
     "execution_count": 14,
     "metadata": {},
     "output_type": "execute_result"
    }
   ],
   "source": [
    "400000 is ww2_cas"
   ]
  },
  {
   "cell_type": "code",
   "execution_count": 15,
   "id": "de16db12",
   "metadata": {},
   "outputs": [
    {
     "data": {
      "text/plain": [
       "False"
      ]
     },
     "execution_count": 15,
     "metadata": {},
     "output_type": "execute_result"
    }
   ],
   "source": [
    "400000 in ww2_cas # mboh kok gaisok"
   ]
  },
  {
   "cell_type": "markdown",
   "id": "ae6029f0",
   "metadata": {},
   "source": [
    "### Converting a series into a dictionary"
   ]
  },
  {
   "cell_type": "code",
   "execution_count": 16,
   "id": "141c6153",
   "metadata": {},
   "outputs": [
    {
     "data": {
      "text/plain": [
       "{'USSR': 8700000,\n",
       " 'Germany': 4300000,\n",
       " 'China': 3000000,\n",
       " 'Japan': 2100000,\n",
       " 'USA': 400000}"
      ]
     },
     "execution_count": 16,
     "metadata": {},
     "output_type": "execute_result"
    }
   ],
   "source": [
    "ww2_dict = ww2_cas.to_dict()\n",
    "ww2_dict"
   ]
  },
  {
   "cell_type": "markdown",
   "id": "d8c2b741",
   "metadata": {},
   "source": [
    "### Converting a dictionary into a series"
   ]
  },
  {
   "cell_type": "code",
   "execution_count": 17,
   "id": "26a193b7",
   "metadata": {},
   "outputs": [
    {
     "data": {
      "text/plain": [
       "USSR       8700000\n",
       "Germany    4300000\n",
       "China      3000000\n",
       "Japan      2100000\n",
       "USA         400000\n",
       "dtype: int64"
      ]
     },
     "execution_count": 17,
     "metadata": {},
     "output_type": "execute_result"
    }
   ],
   "source": [
    "ww2_series = pd.Series(ww2_dict)\n",
    "ww2_series"
   ]
  },
  {
   "cell_type": "markdown",
   "id": "adef9e1c",
   "metadata": {},
   "source": [
    "### we're gonna pass a dictionary into a series that the index will have dictionary keys in order"
   ]
  },
  {
   "cell_type": "code",
   "execution_count": 18,
   "id": "2f7bea0d",
   "metadata": {},
   "outputs": [
    {
     "data": {
      "text/plain": [
       "['Indonesia', 'Malaysia', 'Singapore', 'Thailand', 'Brunei', 'Philipines']"
      ]
     },
     "execution_count": 18,
     "metadata": {},
     "output_type": "execute_result"
    }
   ],
   "source": [
    "countries = ['Indonesia','Malaysia','Singapore','Thailand', 'Brunei', 'Philipines']\n",
    "countries"
   ]
  },
  {
   "cell_type": "code",
   "execution_count": 19,
   "id": "31e9e621",
   "metadata": {},
   "outputs": [
    {
     "data": {
      "text/plain": [
       "['China', 'Germany', 'Japan', 'USA', 'USSR', 'France']"
      ]
     },
     "execution_count": 19,
     "metadata": {},
     "output_type": "execute_result"
    }
   ],
   "source": [
    "ww2_countries = ['China','Germany','Japan','USA','USSR','France']\n",
    "ww2_countries"
   ]
  },
  {
   "cell_type": "code",
   "execution_count": 21,
   "id": "85797447",
   "metadata": {},
   "outputs": [
    {
     "data": {
      "text/plain": [
       "China      3000000.0\n",
       "Germany    4300000.0\n",
       "Japan      2100000.0\n",
       "USA         400000.0\n",
       "USSR       8700000.0\n",
       "France           NaN\n",
       "dtype: float64"
      ]
     },
     "execution_count": 21,
     "metadata": {},
     "output_type": "execute_result"
    }
   ],
   "source": [
    "obj2 = pd.Series(ww2_dict, index=ww2_countries)\n",
    "obj2"
   ]
  },
  {
   "cell_type": "markdown",
   "id": "52ffc182",
   "metadata": {},
   "source": [
    "### Pandas has built in method to find null, checking if it's there or not"
   ]
  },
  {
   "cell_type": "code",
   "execution_count": 22,
   "id": "7f8482e8",
   "metadata": {},
   "outputs": [
    {
     "data": {
      "text/plain": [
       "China      False\n",
       "Germany    False\n",
       "Japan      False\n",
       "USA        False\n",
       "USSR       False\n",
       "France      True\n",
       "dtype: bool"
      ]
     },
     "execution_count": 22,
     "metadata": {},
     "output_type": "execute_result"
    }
   ],
   "source": [
    "pd.isna(obj2)"
   ]
  },
  {
   "cell_type": "code",
   "execution_count": 23,
   "id": "22ad07a7",
   "metadata": {},
   "outputs": [
    {
     "data": {
      "text/plain": [
       "China      False\n",
       "Germany    False\n",
       "Japan      False\n",
       "USA        False\n",
       "USSR       False\n",
       "France      True\n",
       "dtype: bool"
      ]
     },
     "execution_count": 23,
     "metadata": {},
     "output_type": "execute_result"
    }
   ],
   "source": [
    "pd.isnull(obj2)"
   ]
  },
  {
   "cell_type": "code",
   "execution_count": 24,
   "id": "3f64f50c",
   "metadata": {},
   "outputs": [
    {
     "data": {
      "text/plain": [
       "China       True\n",
       "Germany     True\n",
       "Japan       True\n",
       "USA         True\n",
       "USSR        True\n",
       "France     False\n",
       "dtype: bool"
      ]
     },
     "execution_count": 24,
     "metadata": {},
     "output_type": "execute_result"
    }
   ],
   "source": [
    "pd.notna(obj2)"
   ]
  },
  {
   "cell_type": "code",
   "execution_count": 25,
   "id": "0f560125",
   "metadata": {},
   "outputs": [
    {
     "data": {
      "text/plain": [
       "China       True\n",
       "Germany     True\n",
       "Japan       True\n",
       "USA         True\n",
       "USSR        True\n",
       "France     False\n",
       "dtype: bool"
      ]
     },
     "execution_count": 25,
     "metadata": {},
     "output_type": "execute_result"
    }
   ],
   "source": [
    "pd.notnull(obj2)"
   ]
  },
  {
   "cell_type": "markdown",
   "id": "4df07284",
   "metadata": {},
   "source": [
    "### Adding a series (object) into a series and automatically align the data by index"
   ]
  },
  {
   "cell_type": "code",
   "execution_count": 26,
   "id": "cb90bd3b",
   "metadata": {},
   "outputs": [
    {
     "data": {
      "text/plain": [
       "USSR       8700000\n",
       "Germany    4300000\n",
       "China      3000000\n",
       "Japan      2100000\n",
       "USA         400000\n",
       "dtype: int64"
      ]
     },
     "execution_count": 26,
     "metadata": {},
     "output_type": "execute_result"
    }
   ],
   "source": [
    "ww2_series"
   ]
  },
  {
   "cell_type": "code",
   "execution_count": 27,
   "id": "4593793e",
   "metadata": {},
   "outputs": [
    {
     "data": {
      "text/plain": [
       "China      3000000.0\n",
       "Germany    4300000.0\n",
       "Japan      2100000.0\n",
       "USA         400000.0\n",
       "USSR       8700000.0\n",
       "France           NaN\n",
       "dtype: float64"
      ]
     },
     "execution_count": 27,
     "metadata": {},
     "output_type": "execute_result"
    }
   ],
   "source": [
    "obj2"
   ]
  },
  {
   "cell_type": "markdown",
   "id": "d18cc7ed",
   "metadata": {},
   "source": [
    "Automatically allign with the index;\n",
    "\n",
    "no need to specified even its in the wrong order,\n",
    "it will still add up the correct values by index"
   ]
  },
  {
   "cell_type": "code",
   "execution_count": 28,
   "id": "578a2b86",
   "metadata": {},
   "outputs": [
    {
     "data": {
      "text/plain": [
       "China       6000000.0\n",
       "France            NaN\n",
       "Germany     8600000.0\n",
       "Japan       4200000.0\n",
       "USA          800000.0\n",
       "USSR       17400000.0\n",
       "dtype: float64"
      ]
     },
     "execution_count": 28,
     "metadata": {},
     "output_type": "execute_result"
    }
   ],
   "source": [
    "ww2_series + obj2"
   ]
  },
  {
   "cell_type": "markdown",
   "id": "4484dd32",
   "metadata": {},
   "source": [
    "### Giving an indexes / serieses name"
   ]
  },
  {
   "cell_type": "code",
   "execution_count": 29,
   "id": "ec1b2084",
   "metadata": {},
   "outputs": [
    {
     "data": {
      "text/plain": [
       "China      3000000.0\n",
       "Germany    4300000.0\n",
       "Japan      2100000.0\n",
       "USA         400000.0\n",
       "USSR       8700000.0\n",
       "France           NaN\n",
       "dtype: float64"
      ]
     },
     "execution_count": 29,
     "metadata": {},
     "output_type": "execute_result"
    }
   ],
   "source": [
    "obj2"
   ]
  },
  {
   "cell_type": "code",
   "execution_count": 30,
   "id": "fdb54544",
   "metadata": {},
   "outputs": [
    {
     "data": {
      "text/plain": [
       "China      3000000.0\n",
       "Germany    4300000.0\n",
       "Japan      2100000.0\n",
       "USA         400000.0\n",
       "USSR       8700000.0\n",
       "France           NaN\n",
       "Name: World war 2 Casualties, dtype: float64"
      ]
     },
     "execution_count": 30,
     "metadata": {},
     "output_type": "execute_result"
    }
   ],
   "source": [
    "obj2.name = 'World war 2 Casualties'\n",
    "obj2"
   ]
  },
  {
   "cell_type": "markdown",
   "id": "ef78a9ef",
   "metadata": {},
   "source": [
    "You can also name the index"
   ]
  },
  {
   "cell_type": "code",
   "execution_count": 31,
   "id": "b7aa4078",
   "metadata": {},
   "outputs": [
    {
     "data": {
      "text/plain": [
       "Index(['China', 'Germany', 'Japan', 'USA', 'USSR', 'France'], dtype='object')"
      ]
     },
     "execution_count": 31,
     "metadata": {},
     "output_type": "execute_result"
    }
   ],
   "source": [
    "obj2.index"
   ]
  },
  {
   "cell_type": "code",
   "execution_count": 32,
   "id": "f327dcd5",
   "metadata": {},
   "outputs": [],
   "source": [
    "obj.index.name = 'Countries' # Typo"
   ]
  },
  {
   "cell_type": "code",
   "execution_count": 33,
   "id": "c4bb5499",
   "metadata": {},
   "outputs": [
    {
     "data": {
      "text/plain": [
       "Countries\n",
       "0    3\n",
       "1    6\n",
       "2    9\n",
       "dtype: int64"
      ]
     },
     "execution_count": 33,
     "metadata": {},
     "output_type": "execute_result"
    }
   ],
   "source": [
    "obj"
   ]
  },
  {
   "cell_type": "code",
   "execution_count": 34,
   "id": "6c03a883",
   "metadata": {},
   "outputs": [
    {
     "data": {
      "text/plain": [
       "Countries\n",
       "China      3000000.0\n",
       "Germany    4300000.0\n",
       "Japan      2100000.0\n",
       "USA         400000.0\n",
       "USSR       8700000.0\n",
       "France           NaN\n",
       "Name: World war 2 Casualties, dtype: float64"
      ]
     },
     "execution_count": 34,
     "metadata": {},
     "output_type": "execute_result"
    }
   ],
   "source": [
    "obj2.index.name = 'Countries'\n",
    "obj2"
   ]
  },
  {
   "cell_type": "code",
   "execution_count": null,
   "id": "3d4a78ee",
   "metadata": {},
   "outputs": [],
   "source": []
  }
 ],
 "metadata": {
  "kernelspec": {
   "display_name": "Python 3 (ipykernel)",
   "language": "python",
   "name": "python3"
  },
  "language_info": {
   "codemirror_mode": {
    "name": "ipython",
    "version": 3
   },
   "file_extension": ".py",
   "mimetype": "text/x-python",
   "name": "python",
   "nbconvert_exporter": "python",
   "pygments_lexer": "ipython3",
   "version": "3.7.3"
  }
 },
 "nbformat": 4,
 "nbformat_minor": 5
}
